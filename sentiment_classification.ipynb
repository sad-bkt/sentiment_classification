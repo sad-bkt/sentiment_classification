{
 "cells": [
  {
   "cell_type": "markdown",
   "source": [
    "## Импорт необходимых библиотек"
   ],
   "metadata": {
    "collapsed": false
   }
  },
  {
   "cell_type": "code",
   "execution_count": 1,
   "outputs": [
    {
     "name": "stdout",
     "output_type": "stream",
     "text": [
      "Requirement already satisfied: tweet-preprocessor in c:\\users\\user\\ideaprojects\\2\\sentiment_classification\\venv\\lib\\site-packages (0.6.0)\n",
      "Requirement already satisfied: gensim in c:\\users\\user\\ideaprojects\\2\\sentiment_classification\\venv\\lib\\site-packages (4.3.2)\n",
      "Requirement already satisfied: kaggle in c:\\users\\user\\ideaprojects\\2\\sentiment_classification\\venv\\lib\\site-packages (1.5.16)\n",
      "Requirement already satisfied: scikit-learn in c:\\users\\user\\ideaprojects\\2\\sentiment_classification\\venv\\lib\\site-packages (1.3.2)\n",
      "Requirement already satisfied: numpy>=1.18.5 in c:\\users\\user\\ideaprojects\\2\\sentiment_classification\\venv\\lib\\site-packages (from gensim) (1.26.2)\n",
      "Requirement already satisfied: scipy>=1.7.0 in c:\\users\\user\\ideaprojects\\2\\sentiment_classification\\venv\\lib\\site-packages (from gensim) (1.11.4)\n",
      "Requirement already satisfied: smart-open>=1.8.1 in c:\\users\\user\\ideaprojects\\2\\sentiment_classification\\venv\\lib\\site-packages (from gensim) (6.4.0)\n",
      "Requirement already satisfied: six>=1.10 in c:\\users\\user\\ideaprojects\\2\\sentiment_classification\\venv\\lib\\site-packages (from kaggle) (1.16.0)\n",
      "Requirement already satisfied: certifi in c:\\users\\user\\ideaprojects\\2\\sentiment_classification\\venv\\lib\\site-packages (from kaggle) (2023.11.17)\n",
      "Requirement already satisfied: python-dateutil in c:\\users\\user\\ideaprojects\\2\\sentiment_classification\\venv\\lib\\site-packages (from kaggle) (2.8.2)\n",
      "Requirement already satisfied: requests in c:\\users\\user\\ideaprojects\\2\\sentiment_classification\\venv\\lib\\site-packages (from kaggle) (2.31.0)\n",
      "Requirement already satisfied: tqdm in c:\\users\\user\\ideaprojects\\2\\sentiment_classification\\venv\\lib\\site-packages (from kaggle) (4.66.1)\n",
      "Requirement already satisfied: python-slugify in c:\\users\\user\\ideaprojects\\2\\sentiment_classification\\venv\\lib\\site-packages (from kaggle) (8.0.1)\n",
      "Requirement already satisfied: urllib3 in c:\\users\\user\\ideaprojects\\2\\sentiment_classification\\venv\\lib\\site-packages (from kaggle) (2.1.0)\n",
      "Requirement already satisfied: bleach in c:\\users\\user\\ideaprojects\\2\\sentiment_classification\\venv\\lib\\site-packages (from kaggle) (6.1.0)\n",
      "Requirement already satisfied: joblib>=1.1.1 in c:\\users\\user\\ideaprojects\\2\\sentiment_classification\\venv\\lib\\site-packages (from scikit-learn) (1.3.2)\n",
      "Requirement already satisfied: threadpoolctl>=2.0.0 in c:\\users\\user\\ideaprojects\\2\\sentiment_classification\\venv\\lib\\site-packages (from scikit-learn) (3.2.0)\n",
      "Requirement already satisfied: webencodings in c:\\users\\user\\ideaprojects\\2\\sentiment_classification\\venv\\lib\\site-packages (from bleach->kaggle) (0.5.1)\n",
      "Requirement already satisfied: text-unidecode>=1.3 in c:\\users\\user\\ideaprojects\\2\\sentiment_classification\\venv\\lib\\site-packages (from python-slugify->kaggle) (1.3)\n",
      "Requirement already satisfied: charset-normalizer<4,>=2 in c:\\users\\user\\ideaprojects\\2\\sentiment_classification\\venv\\lib\\site-packages (from requests->kaggle) (3.3.2)\n",
      "Requirement already satisfied: idna<4,>=2.5 in c:\\users\\user\\ideaprojects\\2\\sentiment_classification\\venv\\lib\\site-packages (from requests->kaggle) (3.6)\n",
      "Requirement already satisfied: colorama in c:\\users\\user\\ideaprojects\\2\\sentiment_classification\\venv\\lib\\site-packages (from tqdm->kaggle) (0.4.6)\n"
     ]
    },
    {
     "name": "stderr",
     "output_type": "stream",
     "text": [
      "\n",
      "[notice] A new release of pip is available: 23.3.1 -> 23.3.2\n",
      "[notice] To update, run: python.exe -m pip install --upgrade pip\n"
     ]
    }
   ],
   "source": [
    "!pip install tweet-preprocessor gensim kaggle scikit-learn"
   ],
   "metadata": {
    "collapsed": false,
    "ExecuteTime": {
     "end_time": "2023-12-23T15:05:17.690390100Z",
     "start_time": "2023-12-23T15:05:15.275979Z"
    }
   }
  },
  {
   "cell_type": "code",
   "execution_count": 2,
   "metadata": {
    "collapsed": true,
    "ExecuteTime": {
     "end_time": "2023-12-23T15:05:19.812688Z",
     "start_time": "2023-12-23T15:05:17.692418900Z"
    }
   },
   "outputs": [],
   "source": [
    "import numpy as np\n",
    "import pandas as pd\n",
    "import preprocessor as p\n",
    "from gensim.parsing.preprocessing import remove_stopwords, STOPWORDS\n",
    "import gensim\n",
    "from sklearn.model_selection import train_test_split\n",
    "from kaggle.api.kaggle_api_extended import KaggleApi\n",
    "import zipfile\n",
    "from sklearn.dummy import DummyClassifier\n",
    "from sklearn.linear_model import LogisticRegression\n",
    "from sklearn.tree import DecisionTreeClassifier\n",
    "from sklearn.metrics import classification_report"
   ]
  },
  {
   "cell_type": "code",
   "execution_count": 3,
   "outputs": [],
   "source": [
    "seed = 2023\n",
    "# np.random.RandomState = seed"
   ],
   "metadata": {
    "collapsed": false,
    "ExecuteTime": {
     "end_time": "2023-12-23T15:05:19.828032Z",
     "start_time": "2023-12-23T15:05:19.816701900Z"
    }
   }
  },
  {
   "cell_type": "markdown",
   "source": [
    "## Анализ данных"
   ],
   "metadata": {
    "collapsed": false
   }
  },
  {
   "cell_type": "code",
   "execution_count": 4,
   "outputs": [],
   "source": [
    "api = KaggleApi()\n",
    "api.authenticate()\n",
    "api.dataset_download_files('kazanova/sentiment140')"
   ],
   "metadata": {
    "collapsed": false,
    "ExecuteTime": {
     "end_time": "2023-12-23T15:05:20.934756800Z",
     "start_time": "2023-12-23T15:05:19.832037300Z"
    }
   }
  },
  {
   "cell_type": "code",
   "execution_count": 5,
   "outputs": [],
   "source": [
    "with zipfile.ZipFile('sentiment140.zip', 'r') as zipref:\n",
    "    zipref.extractall('sentiment140/')"
   ],
   "metadata": {
    "collapsed": false,
    "ExecuteTime": {
     "end_time": "2023-12-23T15:05:22.602608700Z",
     "start_time": "2023-12-23T15:05:20.947761800Z"
    }
   }
  },
  {
   "cell_type": "code",
   "execution_count": 6,
   "outputs": [
    {
     "data": {
      "text/plain": "         target         ids                          date      flag  \\\n1279206       4  2001509548  Tue Jun 02 01:07:09 PDT 2009  NO_QUERY   \n\n                user                                               text  \n1279206  pareidoliac  so, having come to the end of the line with my...  ",
      "text/html": "<div>\n<style scoped>\n    .dataframe tbody tr th:only-of-type {\n        vertical-align: middle;\n    }\n\n    .dataframe tbody tr th {\n        vertical-align: top;\n    }\n\n    .dataframe thead th {\n        text-align: right;\n    }\n</style>\n<table border=\"1\" class=\"dataframe\">\n  <thead>\n    <tr style=\"text-align: right;\">\n      <th></th>\n      <th>target</th>\n      <th>ids</th>\n      <th>date</th>\n      <th>flag</th>\n      <th>user</th>\n      <th>text</th>\n    </tr>\n  </thead>\n  <tbody>\n    <tr>\n      <th>1279206</th>\n      <td>4</td>\n      <td>2001509548</td>\n      <td>Tue Jun 02 01:07:09 PDT 2009</td>\n      <td>NO_QUERY</td>\n      <td>pareidoliac</td>\n      <td>so, having come to the end of the line with my...</td>\n    </tr>\n  </tbody>\n</table>\n</div>"
     },
     "execution_count": 6,
     "metadata": {},
     "output_type": "execute_result"
    }
   ],
   "source": [
    "colnames=['target', 'ids', 'date', 'flag', 'user', 'text']\n",
    "data = pd.read_csv(\"sentiment140/training.1600000.processed.noemoticon.csv\", encoding='cp1252', names=colnames, header=None)\n",
    "data.sample()"
   ],
   "metadata": {
    "collapsed": false,
    "ExecuteTime": {
     "end_time": "2023-12-23T15:05:27.599237500Z",
     "start_time": "2023-12-23T15:05:22.607626100Z"
    }
   }
  },
  {
   "cell_type": "code",
   "execution_count": 7,
   "outputs": [
    {
     "name": "stdout",
     "output_type": "stream",
     "text": [
      "<class 'pandas.core.frame.DataFrame'>\n",
      "RangeIndex: 1600000 entries, 0 to 1599999\n",
      "Data columns (total 6 columns):\n",
      " #   Column  Non-Null Count    Dtype \n",
      "---  ------  --------------    ----- \n",
      " 0   target  1600000 non-null  int64 \n",
      " 1   ids     1600000 non-null  int64 \n",
      " 2   date    1600000 non-null  object\n",
      " 3   flag    1600000 non-null  object\n",
      " 4   user    1600000 non-null  object\n",
      " 5   text    1600000 non-null  object\n",
      "dtypes: int64(2), object(4)\n",
      "memory usage: 73.2+ MB\n"
     ]
    }
   ],
   "source": [
    "data.info()"
   ],
   "metadata": {
    "collapsed": false,
    "ExecuteTime": {
     "end_time": "2023-12-23T15:05:27.896237700Z",
     "start_time": "2023-12-23T15:05:27.602263300Z"
    }
   }
  },
  {
   "cell_type": "code",
   "execution_count": 8,
   "outputs": [
    {
     "data": {
      "text/plain": "   target                                               text\n0       0  @switchfoot http://twitpic.com/2y1zl - Awww, t...\n1       0  is upset that he can't update his Facebook by ...\n2       0  @Kenichan I dived many times for the ball. Man...\n3       0    my whole body feels itchy and like its on fire \n4       0  @nationwideclass no, it's not behaving at all....",
      "text/html": "<div>\n<style scoped>\n    .dataframe tbody tr th:only-of-type {\n        vertical-align: middle;\n    }\n\n    .dataframe tbody tr th {\n        vertical-align: top;\n    }\n\n    .dataframe thead th {\n        text-align: right;\n    }\n</style>\n<table border=\"1\" class=\"dataframe\">\n  <thead>\n    <tr style=\"text-align: right;\">\n      <th></th>\n      <th>target</th>\n      <th>text</th>\n    </tr>\n  </thead>\n  <tbody>\n    <tr>\n      <th>0</th>\n      <td>0</td>\n      <td>@switchfoot http://twitpic.com/2y1zl - Awww, t...</td>\n    </tr>\n    <tr>\n      <th>1</th>\n      <td>0</td>\n      <td>is upset that he can't update his Facebook by ...</td>\n    </tr>\n    <tr>\n      <th>2</th>\n      <td>0</td>\n      <td>@Kenichan I dived many times for the ball. Man...</td>\n    </tr>\n    <tr>\n      <th>3</th>\n      <td>0</td>\n      <td>my whole body feels itchy and like its on fire</td>\n    </tr>\n    <tr>\n      <th>4</th>\n      <td>0</td>\n      <td>@nationwideclass no, it's not behaving at all....</td>\n    </tr>\n  </tbody>\n</table>\n</div>"
     },
     "execution_count": 8,
     "metadata": {},
     "output_type": "execute_result"
    }
   ],
   "source": [
    "data.drop(['ids', 'date', 'flag', 'user'], axis=1, inplace=True)\n",
    "data.head()"
   ],
   "metadata": {
    "collapsed": false,
    "ExecuteTime": {
     "end_time": "2023-12-23T15:05:28.085237800Z",
     "start_time": "2023-12-23T15:05:27.902239100Z"
    }
   }
  },
  {
   "cell_type": "code",
   "execution_count": 9,
   "outputs": [
    {
     "data": {
      "text/plain": "<Figure size 640x480 with 1 Axes>",
      "image/png": "[encoded data removed]"
     },
     "metadata": {},
     "output_type": "display_data"
    }
   ],
   "source": [
    "data['target'].value_counts().plot(\n",
    "    kind='bar',\n",
    "    rot=0,\n",
    "    title='Количество твитов по классам',\n",
    "    xlabel='Класс (0 - отрицательные, 2 - нейтральные, 4 - позитивные',\n",
    "    ylabel='Число твитов',\n",
    "    legend=True,\n",
    "    grid=True\n",
    ");"
   ],
   "metadata": {
    "collapsed": false,
    "ExecuteTime": {
     "end_time": "2023-12-23T15:05:29.294681400Z",
     "start_time": "2023-12-23T15:05:28.091245100Z"
    }
   }
  },
  {
   "cell_type": "markdown",
   "source": [
    "Класса получается всего 2, поэтому мы будем делать бинарную классификацию. Заменим метку класса 4 на 1:"
   ],
   "metadata": {
    "collapsed": false
   }
  },
  {
   "cell_type": "code",
   "execution_count": 10,
   "outputs": [],
   "source": [
    "data['target'] = data['target'].replace(4,1)"
   ],
   "metadata": {
    "collapsed": false,
    "ExecuteTime": {
     "end_time": "2023-12-23T15:05:29.400707100Z",
     "start_time": "2023-12-23T15:05:29.299678900Z"
    }
   }
  },
  {
   "cell_type": "markdown",
   "source": [
    "## Предобработка данных"
   ],
   "metadata": {
    "collapsed": false
   }
  },
  {
   "cell_type": "code",
   "execution_count": 11,
   "outputs": [
    {
     "name": "stdout",
     "output_type": "stream",
     "text": [
      "frozenset({'both', 'could', 'show', 'who', 'everything', 'bill', 'others', 'hereby', 'fifteen', 'anyone', 'noone', 'interest', 'we', 'fill', 'was', 'third', 'ie', 'very', 'into', 'doing', 'elsewhere', 'many', 'well', 'whereby', 'hundred', 'much', 'thence', 'de', 'mine', 'thereby', 'hers', 'besides', 'nor', 'while', 'couldnt', 'using', 'whatever', 'cannot', 'everywhere', 'else', 'than', 'you', 'only', 'formerly', 'their', 'yourselves', 'least', 'un', 'full', 'it', 'would', 'thru', 'various', 'say', 'really', 'should', 'used', 'everyone', 'above', 'almost', 'his', 'behind', 'he', 'may', 'she', 'anyhow', 'kg', 'must', 'something', 'because', 'neither', 'me', 'former', 'himself', 'herself', 'one', 'put', 'enough', 'eg', 'seemed', 'part', 'always', 'this', 'amongst', 'ever', 'name', 'except', 'upon', 'towards', 'during', 'off', 'might', 'from', 'most', 'whereafter', 'were', 'an', 'go', 'last', 'three', 'him', 'none', 'some', 'nothing', 'didn', 'all', 'nobody', 'serious', 'somewhere', 'mill', 'find', 'someone', 'unless', 'there', 'between', 'among', 'been', 'don', 'any', 'perhaps', 'of', 'side', 'fifty', 'without', 'has', 'herein', 'i', 'km', 'onto', 'detail', 'anywhere', 'seeming', 'nine', 'what', 'still', 'now', 'however', 'beside', 'together', 'hasnt', 'therefore', 'be', 'these', 'throughout', 'own', 'co', 'anything', 'computer', 'whose', 'even', 'first', 'due', 'back', 'where', 'that', 'myself', 'too', 'every', 'them', 'thereafter', 'against', 'whereupon', 'five', 'please', 'yourself', 'found', 'made', 'those', 'then', 'whether', 'and', 'so', 'after', 'make', 'alone', 'my', 'before', 'whither', 'namely', 'for', 'is', 'less', 'often', 'out', 'thick', 'in', 'had', 'how', 'other', 'or', 'cant', 'will', 'became', 'whenever', 'never', 'via', 'anyway', 'toward', 'con', 'already', 'its', 'thus', 'forty', 'whom', 'ltd', 'meanwhile', 'cry', 'itself', 'here', 'under', 'which', 'beforehand', 'sometimes', 'done', 'whereas', 'by', 'they', 'sincere', 'thereupon', 'once', 'a', 'otherwise', 'on', 'yet', 'to', 'but', 'us', 'hereafter', 'quite', 'seem', 'though', 'each', 'hence', 'sometime', 'more', 'inc', 'fire', 'why', 'next', 'did', 'at', 'call', 'becomes', 'nevertheless', 'when', 'no', 'just', 'am', 'can', 'bottom', 'not', 'within', 'wherever', 'thin', 'around', 'up', 'empty', 'doesn', 'four', 'ourselves', 'etc', 'eleven', 'ours', 'another', 'move', 'get', 'along', 'below', 'either', 're', 'whence', 'keep', 'describe', 'beyond', 'same', 'our', 'six', 'your', 'nowhere', 'with', 'regarding', 'therein', 'afterwards', 'twenty', 'over', 'take', 'have', 'wherein', 'latterly', 'see', 'give', 'does', 'two', 'per', 'hereupon', 'becoming', 'down', 'rather', 'top', 'seems', 'although', 'system', 'as', 'further', 'front', 'whoever', 'until', 'indeed', 'again', 'become', 'about', 'are', 'themselves', 'amount', 'also', 'being', 'eight', 'somehow', 'yours', 'ten', 'few', 'whole', 'amoungst', 'several', 'if', 'since', 'do', 'twelve', 'across', 'mostly', 'her', 'such', 'through', 'sixty', 'latter', 'the', 'moreover'})\n"
     ]
    }
   ],
   "source": [
    "print(STOPWORDS)"
   ],
   "metadata": {
    "collapsed": false,
    "ExecuteTime": {
     "end_time": "2023-12-23T15:05:29.401682400Z",
     "start_time": "2023-12-23T15:05:29.332711700Z"
    }
   }
  },
  {
   "cell_type": "markdown",
   "source": [
    "Данные стоп слова вряд ли влияют на настроение твита, так что возьму их прямо из коробки."
   ],
   "metadata": {
    "collapsed": false
   }
  },
  {
   "cell_type": "code",
   "execution_count": 12,
   "outputs": [
    {
     "name": "stdout",
     "output_type": "stream",
     "text": [
      "CPU times: total: 2min 43s\n",
      "Wall time: 2min 44s\n"
     ]
    }
   ],
   "source": [
    "%%time\n",
    "def preprocess_tweet(row):\n",
    "    text = row['text']\n",
    "    text = p.clean(text)\n",
    "    text = remove_stopwords(text)\n",
    "    return text.lower().replace('\\s\\s+', ' ')\n",
    "\n",
    "data['cleaned_text'] = data.apply(preprocess_tweet, axis=1)"
   ],
   "metadata": {
    "collapsed": false,
    "ExecuteTime": {
     "end_time": "2023-12-23T15:08:13.766701600Z",
     "start_time": "2023-12-23T15:05:29.347682500Z"
    }
   }
  },
  {
   "cell_type": "code",
   "execution_count": 13,
   "outputs": [
    {
     "data": {
      "text/plain": "         target                                               text  \\\n945166        1  &quot;First we was chillin, now catchin feelin...   \n1368784       1  i am playing the wii right now with all of my ...   \n1397813       1                          Syurga Cinta was good...    \n472502        0  @rhettroberts but i  thought there was no secr...   \n340342        0                      No prayer night. I'm so sad.    \n956971        1                            Making a ton of videos    \n654029        0  is not looking forward to school induction day...   \n1384373       1                         oh. and i also got sims 3    \n522016        0  @breakingdawn i steal from your farm every day...   \n1376998       1  im new to this twitter thingy, so if any fanci...   \n\n                                              cleaned_text  \n945166         &quot;first chillin, catchin feelins.&quot;  \n1368784  playing wii right family. having blast played ...  \n1397813                               syurga cinta good...  \n472502                                 thought secrets us.  \n340342                           no prayer night. i'm sad.  \n956971                                   making ton videos  \n654029   looking forward school induction day..eugh lik...  \n1384373                                       oh. got sims  \n522016    steal farm day klepto need cash moneyyy haha me!  \n1376998  im new twitter thingy, fancies letting know us...  ",
      "text/html": "<div>\n<style scoped>\n    .dataframe tbody tr th:only-of-type {\n        vertical-align: middle;\n    }\n\n    .dataframe tbody tr th {\n        vertical-align: top;\n    }\n\n    .dataframe thead th {\n        text-align: right;\n    }\n</style>\n<table border=\"1\" class=\"dataframe\">\n  <thead>\n    <tr style=\"text-align: right;\">\n      <th></th>\n      <th>target</th>\n      <th>text</th>\n      <th>cleaned_text</th>\n    </tr>\n  </thead>\n  <tbody>\n    <tr>\n      <th>945166</th>\n      <td>1</td>\n      <td>&amp;quot;First we was chillin, now catchin feelin...</td>\n      <td>&amp;quot;first chillin, catchin feelins.&amp;quot;</td>\n    </tr>\n    <tr>\n      <th>1368784</th>\n      <td>1</td>\n      <td>i am playing the wii right now with all of my ...</td>\n      <td>playing wii right family. having blast played ...</td>\n    </tr>\n    <tr>\n      <th>1397813</th>\n      <td>1</td>\n      <td>Syurga Cinta was good...</td>\n      <td>syurga cinta good...</td>\n    </tr>\n    <tr>\n      <th>472502</th>\n      <td>0</td>\n      <td>@rhettroberts but i  thought there was no secr...</td>\n      <td>thought secrets us.</td>\n    </tr>\n    <tr>\n      <th>340342</th>\n      <td>0</td>\n      <td>No prayer night. I'm so sad.</td>\n      <td>no prayer night. i'm sad.</td>\n    </tr>\n    <tr>\n      <th>956971</th>\n      <td>1</td>\n      <td>Making a ton of videos</td>\n      <td>making ton videos</td>\n    </tr>\n    <tr>\n      <th>654029</th>\n      <td>0</td>\n      <td>is not looking forward to school induction day...</td>\n      <td>looking forward school induction day..eugh lik...</td>\n    </tr>\n    <tr>\n      <th>1384373</th>\n      <td>1</td>\n      <td>oh. and i also got sims 3</td>\n      <td>oh. got sims</td>\n    </tr>\n    <tr>\n      <th>522016</th>\n      <td>0</td>\n      <td>@breakingdawn i steal from your farm every day...</td>\n      <td>steal farm day klepto need cash moneyyy haha me!</td>\n    </tr>\n    <tr>\n      <th>1376998</th>\n      <td>1</td>\n      <td>im new to this twitter thingy, so if any fanci...</td>\n      <td>im new twitter thingy, fancies letting know us...</td>\n    </tr>\n  </tbody>\n</table>\n</div>"
     },
     "execution_count": 13,
     "metadata": {},
     "output_type": "execute_result"
    }
   ],
   "source": [
    "data.sample(10)"
   ],
   "metadata": {
    "collapsed": false,
    "ExecuteTime": {
     "end_time": "2023-12-23T15:08:13.874682600Z",
     "start_time": "2023-12-23T15:08:13.773688200Z"
    }
   }
  },
  {
   "cell_type": "markdown",
   "source": [
    "## Извлечение признаков из текста с помощью векторизации"
   ],
   "metadata": {
    "collapsed": false
   }
  },
  {
   "cell_type": "code",
   "execution_count": 14,
   "outputs": [],
   "source": [
    "X_train, X_test, y_train, y_test = train_test_split(data['cleaned_text'], data['target'], random_state=2023)"
   ],
   "metadata": {
    "collapsed": false,
    "ExecuteTime": {
     "end_time": "2023-12-23T15:08:14.701689200Z",
     "start_time": "2023-12-23T15:08:13.879744200Z"
    }
   }
  },
  {
   "cell_type": "code",
   "execution_count": 15,
   "outputs": [
    {
     "name": "stdout",
     "output_type": "stream",
     "text": [
      "CPU times: total: 53min\n",
      "Wall time: 18min 47s\n"
     ]
    }
   ],
   "source": [
    "%%time\n",
    "VECTOR_SIZE = 256\n",
    "model = gensim.models.FastText(\n",
    "    sentences=X_train,\n",
    "    vector_size=VECTOR_SIZE, # default = 100\n",
    "    window=7, # default = 5\n",
    "    min_count=10,\n",
    "    sg=1, # Training algorithm: 1 for skip-gram; otherwise CBOW\n",
    "    hs=0, #  If 1, hierarchical softmax will be used for model training. If 0, and negative is non-zero, negative sampling will be used.\n",
    "    negative=5, # If > 0, negative sampling will be used, if set to 0, no negative sampling is used.\n",
    "    epochs=25, # Number of iterations (epochs) over the corpus\n",
    "    seed=seed,\n",
    ")"
   ],
   "metadata": {
    "collapsed": false,
    "ExecuteTime": {
     "end_time": "2023-12-23T15:27:03.346426700Z",
     "start_time": "2023-12-23T15:08:14.701689200Z"
    }
   }
  },
  {
   "cell_type": "code",
   "execution_count": 16,
   "outputs": [],
   "source": [
    "# Получаем эмбеддинг для текста\n",
    "def document_vector(doc):\n",
    "    doc = [model.wv[word] for word in doc if word in model.wv.key_to_index.keys()]\n",
    "    if not doc:\n",
    "        return [0 for i in range(VECTOR_SIZE)]\n",
    "    return np.mean(doc, axis=0)\n",
    "\n",
    "X_train_vectorized = list(X_train.apply(document_vector))\n",
    "X_test_vectorized = list(X_test.apply(document_vector))"
   ],
   "metadata": {
    "collapsed": false,
    "ExecuteTime": {
     "end_time": "2023-12-23T15:30:38.559837300Z",
     "start_time": "2023-12-23T15:27:03.538658900Z"
    }
   }
  },
  {
   "cell_type": "markdown",
   "source": [
    "## Бейзлайн - константное предсказание"
   ],
   "metadata": {
    "collapsed": false
   }
  },
  {
   "cell_type": "markdown",
   "source": [],
   "metadata": {
    "collapsed": false
   }
  },
  {
   "cell_type": "code",
   "execution_count": 17,
   "outputs": [
    {
     "name": "stdout",
     "output_type": "stream",
     "text": [
      "              precision    recall  f1-score   support\n",
      "\n",
      "           0       0.50      1.00      0.67    199541\n",
      "           1       0.00      0.00      0.00    200459\n",
      "\n",
      "    accuracy                           0.50    400000\n",
      "   macro avg       0.25      0.50      0.33    400000\n",
      "weighted avg       0.25      0.50      0.33    400000\n",
      "\n"
     ]
    }
   ],
   "source": [
    "dummy_clf = DummyClassifier(strategy=\"most_frequent\", random_state=seed).fit(X_train_vectorized, y_train)\n",
    "preds = dummy_clf.predict(X_test_vectorized)\n",
    "print(classification_report(y_test, preds, zero_division=0))\n"
   ],
   "metadata": {
    "collapsed": false,
    "ExecuteTime": {
     "end_time": "2023-12-23T15:30:41.609338600Z",
     "start_time": "2023-12-23T15:30:38.589754Z"
    }
   }
  },
  {
   "cell_type": "markdown",
   "source": [
    "## Логистическая регрессия"
   ],
   "metadata": {
    "collapsed": false
   }
  },
  {
   "cell_type": "code",
   "execution_count": 18,
   "outputs": [
    {
     "name": "stderr",
     "output_type": "stream",
     "text": [
      "C:\\Users\\User\\IdeaProjects\\2\\sentiment_classification\\venv\\lib\\site-packages\\sklearn\\linear_model\\_logistic.py:460: ConvergenceWarning: lbfgs failed to converge (status=1):\n",
      "STOP: TOTAL NO. of ITERATIONS REACHED LIMIT.\n",
      "\n",
      "Increase the number of iterations (max_iter) or scale the data as shown in:\n",
      "    https://scikit-learn.org/stable/modules/preprocessing.html\n",
      "Please also refer to the documentation for alternative solver options:\n",
      "    https://scikit-learn.org/stable/modules/linear_model.html#logistic-regression\n",
      "  n_iter_i = _check_optimize_result(\n"
     ]
    },
    {
     "name": "stdout",
     "output_type": "stream",
     "text": [
      "              precision    recall  f1-score   support\n",
      "\n",
      "           0       0.59      0.64      0.61    199541\n",
      "           1       0.61      0.55      0.58    200459\n",
      "\n",
      "    accuracy                           0.60    400000\n",
      "   macro avg       0.60      0.60      0.60    400000\n",
      "weighted avg       0.60      0.60      0.60    400000\n",
      "\n"
     ]
    }
   ],
   "source": [
    "logreg = LogisticRegression(random_state=seed).fit(X_train_vectorized, y_train)\n",
    "preds_count_vec = logreg.predict(X_test_vectorized)\n",
    "print(classification_report(y_test, preds_count_vec))"
   ],
   "metadata": {
    "collapsed": false,
    "ExecuteTime": {
     "end_time": "2023-12-23T15:32:26.138667500Z",
     "start_time": "2023-12-23T15:30:41.620371700Z"
    }
   }
  }
 ],
 "metadata": {
  "kernelspec": {
   "display_name": "Python 3",
   "language": "python",
   "name": "python3"
  },
  "language_info": {
   "codemirror_mode": {
    "name": "ipython",
    "version": 2
   },
   "file_extension": ".py",
   "mimetype": "text/x-python",
   "name": "python",
   "nbconvert_exporter": "python",
   "pygments_lexer": "ipython2",
   "version": "2.7.6"
  }
 },
 "nbformat": 4,
 "nbformat_minor": 0
}

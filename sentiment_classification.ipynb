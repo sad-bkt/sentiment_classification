{
 "cells": [
  {
   "cell_type": "markdown",
   "source": [
    "## Импорт необходимых библиотек"
   ],
   "metadata": {
    "collapsed": false
   }
  },
  {
   "cell_type": "code",
   "execution_count": 33,
   "outputs": [
    {
     "name": "stdout",
     "output_type": "stream",
     "text": [
      "Requirement already satisfied: tweet-preprocessor in c:\\users\\user\\ideaprojects\\2\\sentiment_classification\\venv\\lib\\site-packages (0.6.0)\n",
      "Requirement already satisfied: gensim in c:\\users\\user\\ideaprojects\\2\\sentiment_classification\\venv\\lib\\site-packages (4.3.2)\n",
      "Requirement already satisfied: kaggle in c:\\users\\user\\ideaprojects\\2\\sentiment_classification\\venv\\lib\\site-packages (1.5.16)\n",
      "Requirement already satisfied: scikit-learn in c:\\users\\user\\ideaprojects\\2\\sentiment_classification\\venv\\lib\\site-packages (1.3.2)\n",
      "Requirement already satisfied: optuna in c:\\users\\user\\ideaprojects\\2\\sentiment_classification\\venv\\lib\\site-packages (3.5.0)\n",
      "Requirement already satisfied: numpy>=1.18.5 in c:\\users\\user\\ideaprojects\\2\\sentiment_classification\\venv\\lib\\site-packages (from gensim) (1.26.2)\n",
      "Requirement already satisfied: scipy>=1.7.0 in c:\\users\\user\\ideaprojects\\2\\sentiment_classification\\venv\\lib\\site-packages (from gensim) (1.11.4)\n",
      "Requirement already satisfied: smart-open>=1.8.1 in c:\\users\\user\\ideaprojects\\2\\sentiment_classification\\venv\\lib\\site-packages (from gensim) (6.4.0)\n",
      "Requirement already satisfied: six>=1.10 in c:\\users\\user\\ideaprojects\\2\\sentiment_classification\\venv\\lib\\site-packages (from kaggle) (1.16.0)\n",
      "Requirement already satisfied: certifi in c:\\users\\user\\ideaprojects\\2\\sentiment_classification\\venv\\lib\\site-packages (from kaggle) (2023.11.17)\n",
      "Requirement already satisfied: python-dateutil in c:\\users\\user\\ideaprojects\\2\\sentiment_classification\\venv\\lib\\site-packages (from kaggle) (2.8.2)\n",
      "Requirement already satisfied: requests in c:\\users\\user\\ideaprojects\\2\\sentiment_classification\\venv\\lib\\site-packages (from kaggle) (2.31.0)\n",
      "Requirement already satisfied: tqdm in c:\\users\\user\\ideaprojects\\2\\sentiment_classification\\venv\\lib\\site-packages (from kaggle) (4.66.1)\n",
      "Requirement already satisfied: python-slugify in c:\\users\\user\\ideaprojects\\2\\sentiment_classification\\venv\\lib\\site-packages (from kaggle) (8.0.1)\n",
      "Requirement already satisfied: urllib3 in c:\\users\\user\\ideaprojects\\2\\sentiment_classification\\venv\\lib\\site-packages (from kaggle) (2.1.0)\n",
      "Requirement already satisfied: bleach in c:\\users\\user\\ideaprojects\\2\\sentiment_classification\\venv\\lib\\site-packages (from kaggle) (6.1.0)\n",
      "Requirement already satisfied: joblib>=1.1.1 in c:\\users\\user\\ideaprojects\\2\\sentiment_classification\\venv\\lib\\site-packages (from scikit-learn) (1.3.2)\n",
      "Requirement already satisfied: threadpoolctl>=2.0.0 in c:\\users\\user\\ideaprojects\\2\\sentiment_classification\\venv\\lib\\site-packages (from scikit-learn) (3.2.0)\n",
      "Requirement already satisfied: alembic>=1.5.0 in c:\\users\\user\\ideaprojects\\2\\sentiment_classification\\venv\\lib\\site-packages (from optuna) (1.13.1)\n",
      "Requirement already satisfied: colorlog in c:\\users\\user\\ideaprojects\\2\\sentiment_classification\\venv\\lib\\site-packages (from optuna) (6.8.0)\n",
      "Requirement already satisfied: packaging>=20.0 in c:\\users\\user\\ideaprojects\\2\\sentiment_classification\\venv\\lib\\site-packages (from optuna) (23.2)\n",
      "Requirement already satisfied: sqlalchemy>=1.3.0 in c:\\users\\user\\ideaprojects\\2\\sentiment_classification\\venv\\lib\\site-packages (from optuna) (2.0.23)\n",
      "Requirement already satisfied: PyYAML in c:\\users\\user\\ideaprojects\\2\\sentiment_classification\\venv\\lib\\site-packages (from optuna) (6.0.1)\n",
      "Requirement already satisfied: Mako in c:\\users\\user\\ideaprojects\\2\\sentiment_classification\\venv\\lib\\site-packages (from alembic>=1.5.0->optuna) (1.3.0)\n",
      "Requirement already satisfied: typing-extensions>=4 in c:\\users\\user\\ideaprojects\\2\\sentiment_classification\\venv\\lib\\site-packages (from alembic>=1.5.0->optuna) (4.9.0)\n",
      "Requirement already satisfied: greenlet!=0.4.17 in c:\\users\\user\\ideaprojects\\2\\sentiment_classification\\venv\\lib\\site-packages (from sqlalchemy>=1.3.0->optuna) (3.0.3)\n",
      "Requirement already satisfied: webencodings in c:\\users\\user\\ideaprojects\\2\\sentiment_classification\\venv\\lib\\site-packages (from bleach->kaggle) (0.5.1)\n",
      "Requirement already satisfied: colorama in c:\\users\\user\\ideaprojects\\2\\sentiment_classification\\venv\\lib\\site-packages (from colorlog->optuna) (0.4.6)\n",
      "Requirement already satisfied: text-unidecode>=1.3 in c:\\users\\user\\ideaprojects\\2\\sentiment_classification\\venv\\lib\\site-packages (from python-slugify->kaggle) (1.3)\n",
      "Requirement already satisfied: charset-normalizer<4,>=2 in c:\\users\\user\\ideaprojects\\2\\sentiment_classification\\venv\\lib\\site-packages (from requests->kaggle) (3.3.2)\n",
      "Requirement already satisfied: idna<4,>=2.5 in c:\\users\\user\\ideaprojects\\2\\sentiment_classification\\venv\\lib\\site-packages (from requests->kaggle) (3.6)\n",
      "Requirement already satisfied: MarkupSafe>=0.9.2 in c:\\users\\user\\ideaprojects\\2\\sentiment_classification\\venv\\lib\\site-packages (from Mako->alembic>=1.5.0->optuna) (2.1.3)\n"
     ]
    },
    {
     "name": "stderr",
     "output_type": "stream",
     "text": [
      "\n",
      "[notice] A new release of pip is available: 23.3.1 -> 23.3.2\n",
      "[notice] To update, run: python.exe -m pip install --upgrade pip\n"
     ]
    }
   ],
   "source": [
    "!pip install tweet-preprocessor gensim kaggle scikit-learn optuna"
   ],
   "metadata": {
    "collapsed": false,
    "ExecuteTime": {
     "end_time": "2023-12-28T16:12:14.732577Z",
     "start_time": "2023-12-28T16:12:11.124327800Z"
    }
   }
  },
  {
   "cell_type": "code",
   "execution_count": 34,
   "metadata": {
    "collapsed": true,
    "ExecuteTime": {
     "end_time": "2023-12-28T16:12:17.736655Z",
     "start_time": "2023-12-28T16:12:14.758784300Z"
    }
   },
   "outputs": [],
   "source": [
    "import numpy as np\n",
    "import pandas as pd\n",
    "import preprocessor as p\n",
    "from gensim.parsing.preprocessing import remove_stopwords, STOPWORDS\n",
    "import gensim\n",
    "from sklearn.model_selection import train_test_split\n",
    "from kaggle.api.kaggle_api_extended import KaggleApi\n",
    "import zipfile\n",
    "from sklearn.dummy import DummyClassifier\n",
    "from sklearn.linear_model import LogisticRegression\n",
    "import optuna\n",
    "from sklearn.ensemble import RandomForestClassifier\n",
    "from sklearn.model_selection import cross_val_score\n",
    "from sklearn.svm import SVC\n",
    "from sklearn.tree import DecisionTreeClassifier\n",
    "from sklearn.metrics import classification_report"
   ]
  },
  {
   "cell_type": "code",
   "execution_count": 35,
   "outputs": [],
   "source": [
    "seed = 2023\n",
    "# np.random.RandomState = seed"
   ],
   "metadata": {
    "collapsed": false,
    "ExecuteTime": {
     "end_time": "2023-12-28T16:12:17.795260600Z",
     "start_time": "2023-12-28T16:12:17.744684300Z"
    }
   }
  },
  {
   "cell_type": "markdown",
   "source": [
    "## Анализ данных"
   ],
   "metadata": {
    "collapsed": false
   }
  },
  {
   "cell_type": "code",
   "execution_count": 36,
   "outputs": [],
   "source": [
    "api = KaggleApi()\n",
    "api.authenticate()\n",
    "api.dataset_download_files('kazanova/sentiment140')"
   ],
   "metadata": {
    "collapsed": false,
    "ExecuteTime": {
     "end_time": "2023-12-28T16:12:19.764181400Z",
     "start_time": "2023-12-28T16:12:17.776263500Z"
    }
   }
  },
  {
   "cell_type": "code",
   "execution_count": 37,
   "outputs": [],
   "source": [
    "with zipfile.ZipFile('sentiment140.zip', 'r') as zipref:\n",
    "    zipref.extractall('sentiment140/')"
   ],
   "metadata": {
    "collapsed": false,
    "ExecuteTime": {
     "end_time": "2023-12-28T16:12:22.912110700Z",
     "start_time": "2023-12-28T16:12:19.772194500Z"
    }
   }
  },
  {
   "cell_type": "code",
   "execution_count": 38,
   "outputs": [
    {
     "data": {
      "text/plain": "         target         ids                          date      flag  \\\n88177         0  1754759836  Sun May 10 07:18:05 PDT 2009  NO_QUERY   \n1356010       4  2047655555  Fri Jun 05 13:58:50 PDT 2009  NO_QUERY   \n1138060       4  1976808834  Sat May 30 19:08:19 PDT 2009  NO_QUERY   \n1597750       4  2193007465  Tue Jun 16 07:52:02 PDT 2009  NO_QUERY   \n1291195       4  2002856252  Tue Jun 02 05:19:47 PDT 2009  NO_QUERY   \n243211        0  1981493728  Sun May 31 09:16:11 PDT 2009  NO_QUERY   \n1061905       4  1963931557  Fri May 29 13:28:06 PDT 2009  NO_QUERY   \n1376929       4  2051815394  Fri Jun 05 22:52:56 PDT 2009  NO_QUERY   \n716350        0  2259672510  Sat Jun 20 17:58:35 PDT 2009  NO_QUERY   \n751870        0  2286262055  Mon Jun 22 16:12:28 PDT 2009  NO_QUERY   \n\n                    user                                               text  \n88177      Lindsey_Girly  Going to my Grandmas to celebrate Mothers day....  \n1356010      gunandagirl  @JDollin Oh trust me, she'll be moving into my...  \n1138060    Yayitsmartyna                 @buggi30 watched willly wonka too   \n1597750    withinwithout  @john_garza nice! enjoy.... i do love the home...  \n1291195       gailelaine  @azmomofmanyhats Yep, it's another great day! ...  \n243211   ChelseaArchibal              @naomiwallace i still don't have one   \n1061905     Kamthenikhil  @WATblog wat consultants is doin quite wel on ...  \n1376929      Sky_Breaker  OOC: *hugs everybot within range and tosses ch...  \n716350    whispersoftime                        Boo...my tummy hurts again   \n751870            gdee73  My condolences to those who have lost loved on...  ",
      "text/html": "<div>\n<style scoped>\n    .dataframe tbody tr th:only-of-type {\n        vertical-align: middle;\n    }\n\n    .dataframe tbody tr th {\n        vertical-align: top;\n    }\n\n    .dataframe thead th {\n        text-align: right;\n    }\n</style>\n<table border=\"1\" class=\"dataframe\">\n  <thead>\n    <tr style=\"text-align: right;\">\n      <th></th>\n      <th>target</th>\n      <th>ids</th>\n      <th>date</th>\n      <th>flag</th>\n      <th>user</th>\n      <th>text</th>\n    </tr>\n  </thead>\n  <tbody>\n    <tr>\n      <th>88177</th>\n      <td>0</td>\n      <td>1754759836</td>\n      <td>Sun May 10 07:18:05 PDT 2009</td>\n      <td>NO_QUERY</td>\n      <td>Lindsey_Girly</td>\n      <td>Going to my Grandmas to celebrate Mothers day....</td>\n    </tr>\n    <tr>\n      <th>1356010</th>\n      <td>4</td>\n      <td>2047655555</td>\n      <td>Fri Jun 05 13:58:50 PDT 2009</td>\n      <td>NO_QUERY</td>\n      <td>gunandagirl</td>\n      <td>@JDollin Oh trust me, she'll be moving into my...</td>\n    </tr>\n    <tr>\n      <th>1138060</th>\n      <td>4</td>\n      <td>1976808834</td>\n      <td>Sat May 30 19:08:19 PDT 2009</td>\n      <td>NO_QUERY</td>\n      <td>Yayitsmartyna</td>\n      <td>@buggi30 watched willly wonka too</td>\n    </tr>\n    <tr>\n      <th>1597750</th>\n      <td>4</td>\n      <td>2193007465</td>\n      <td>Tue Jun 16 07:52:02 PDT 2009</td>\n      <td>NO_QUERY</td>\n      <td>withinwithout</td>\n      <td>@john_garza nice! enjoy.... i do love the home...</td>\n    </tr>\n    <tr>\n      <th>1291195</th>\n      <td>4</td>\n      <td>2002856252</td>\n      <td>Tue Jun 02 05:19:47 PDT 2009</td>\n      <td>NO_QUERY</td>\n      <td>gailelaine</td>\n      <td>@azmomofmanyhats Yep, it's another great day! ...</td>\n    </tr>\n    <tr>\n      <th>243211</th>\n      <td>0</td>\n      <td>1981493728</td>\n      <td>Sun May 31 09:16:11 PDT 2009</td>\n      <td>NO_QUERY</td>\n      <td>ChelseaArchibal</td>\n      <td>@naomiwallace i still don't have one</td>\n    </tr>\n    <tr>\n      <th>1061905</th>\n      <td>4</td>\n      <td>1963931557</td>\n      <td>Fri May 29 13:28:06 PDT 2009</td>\n      <td>NO_QUERY</td>\n      <td>Kamthenikhil</td>\n      <td>@WATblog wat consultants is doin quite wel on ...</td>\n    </tr>\n    <tr>\n      <th>1376929</th>\n      <td>4</td>\n      <td>2051815394</td>\n      <td>Fri Jun 05 22:52:56 PDT 2009</td>\n      <td>NO_QUERY</td>\n      <td>Sky_Breaker</td>\n      <td>OOC: *hugs everybot within range and tosses ch...</td>\n    </tr>\n    <tr>\n      <th>716350</th>\n      <td>0</td>\n      <td>2259672510</td>\n      <td>Sat Jun 20 17:58:35 PDT 2009</td>\n      <td>NO_QUERY</td>\n      <td>whispersoftime</td>\n      <td>Boo...my tummy hurts again</td>\n    </tr>\n    <tr>\n      <th>751870</th>\n      <td>0</td>\n      <td>2286262055</td>\n      <td>Mon Jun 22 16:12:28 PDT 2009</td>\n      <td>NO_QUERY</td>\n      <td>gdee73</td>\n      <td>My condolences to those who have lost loved on...</td>\n    </tr>\n  </tbody>\n</table>\n</div>"
     },
     "execution_count": 38,
     "metadata": {},
     "output_type": "execute_result"
    }
   ],
   "source": [
    "colnames=['target', 'ids', 'date', 'flag', 'user', 'text']\n",
    "data = pd.read_csv(\"sentiment140/training.1600000.processed.noemoticon.csv\", encoding='cp1252', names=colnames, header=None)\n",
    "data.sample(10)"
   ],
   "metadata": {
    "collapsed": false,
    "ExecuteTime": {
     "end_time": "2023-12-28T16:12:33.640214700Z",
     "start_time": "2023-12-28T16:12:22.919101300Z"
    }
   }
  },
  {
   "cell_type": "code",
   "execution_count": 39,
   "outputs": [
    {
     "name": "stdout",
     "output_type": "stream",
     "text": [
      "<class 'pandas.core.frame.DataFrame'>\n",
      "RangeIndex: 1600000 entries, 0 to 1599999\n",
      "Data columns (total 6 columns):\n",
      " #   Column  Non-Null Count    Dtype \n",
      "---  ------  --------------    ----- \n",
      " 0   target  1600000 non-null  int64 \n",
      " 1   ids     1600000 non-null  int64 \n",
      " 2   date    1600000 non-null  object\n",
      " 3   flag    1600000 non-null  object\n",
      " 4   user    1600000 non-null  object\n",
      " 5   text    1600000 non-null  object\n",
      "dtypes: int64(2), object(4)\n",
      "memory usage: 73.2+ MB\n"
     ]
    }
   ],
   "source": [
    "data.info()"
   ],
   "metadata": {
    "collapsed": false,
    "ExecuteTime": {
     "end_time": "2023-12-28T16:12:34.163518800Z",
     "start_time": "2023-12-28T16:12:33.645232Z"
    }
   }
  },
  {
   "cell_type": "code",
   "execution_count": 40,
   "outputs": [
    {
     "data": {
      "text/plain": "   target                                               text\n0       0  @switchfoot http://twitpic.com/2y1zl - Awww, t...\n1       0  is upset that he can't update his Facebook by ...\n2       0  @Kenichan I dived many times for the ball. Man...\n3       0    my whole body feels itchy and like its on fire \n4       0  @nationwideclass no, it's not behaving at all....",
      "text/html": "<div>\n<style scoped>\n    .dataframe tbody tr th:only-of-type {\n        vertical-align: middle;\n    }\n\n    .dataframe tbody tr th {\n        vertical-align: top;\n    }\n\n    .dataframe thead th {\n        text-align: right;\n    }\n</style>\n<table border=\"1\" class=\"dataframe\">\n  <thead>\n    <tr style=\"text-align: right;\">\n      <th></th>\n      <th>target</th>\n      <th>text</th>\n    </tr>\n  </thead>\n  <tbody>\n    <tr>\n      <th>0</th>\n      <td>0</td>\n      <td>@switchfoot http://twitpic.com/2y1zl - Awww, t...</td>\n    </tr>\n    <tr>\n      <th>1</th>\n      <td>0</td>\n      <td>is upset that he can't update his Facebook by ...</td>\n    </tr>\n    <tr>\n      <th>2</th>\n      <td>0</td>\n      <td>@Kenichan I dived many times for the ball. Man...</td>\n    </tr>\n    <tr>\n      <th>3</th>\n      <td>0</td>\n      <td>my whole body feels itchy and like its on fire</td>\n    </tr>\n    <tr>\n      <th>4</th>\n      <td>0</td>\n      <td>@nationwideclass no, it's not behaving at all....</td>\n    </tr>\n  </tbody>\n</table>\n</div>"
     },
     "execution_count": 40,
     "metadata": {},
     "output_type": "execute_result"
    }
   ],
   "source": [
    "data.drop(['ids', 'date', 'flag', 'user'], axis=1, inplace=True)\n",
    "data.head()"
   ],
   "metadata": {
    "collapsed": false,
    "ExecuteTime": {
     "end_time": "2023-12-28T16:12:34.430084800Z",
     "start_time": "2023-12-28T16:12:34.167527900Z"
    }
   }
  },
  {
   "cell_type": "code",
   "execution_count": 41,
   "outputs": [
    {
     "data": {
      "text/plain": "<Figure size 640x480 with 1 Axes>",
      "image/png": "[encoded data removed]"
     },
     "metadata": {},
     "output_type": "display_data"
    }
   ],
   "source": [
    "data['target'].value_counts().plot(\n",
    "    kind='bar',\n",
    "    rot=0,\n",
    "    title='Количество твитов по классам',\n",
    "    xlabel='Класс (0 - отрицательные, 2 - нейтральные, 4 - позитивные',\n",
    "    ylabel='Число твитов',\n",
    "    legend=True,\n",
    "    grid=True\n",
    ");"
   ],
   "metadata": {
    "collapsed": false,
    "ExecuteTime": {
     "end_time": "2023-12-28T16:12:35.714616100Z",
     "start_time": "2023-12-28T16:12:34.434088200Z"
    }
   }
  },
  {
   "cell_type": "markdown",
   "source": [
    "Класса получается всего 2, поэтому мы будем делать бинарную классификацию. Заменим метку класса 4 на 1:"
   ],
   "metadata": {
    "collapsed": false
   }
  },
  {
   "cell_type": "code",
   "execution_count": 42,
   "outputs": [],
   "source": [
    "data['target'] = data['target'].replace(4,1)"
   ],
   "metadata": {
    "collapsed": false,
    "ExecuteTime": {
     "end_time": "2023-12-28T16:12:35.833605400Z",
     "start_time": "2023-12-28T16:12:35.725617500Z"
    }
   }
  },
  {
   "cell_type": "markdown",
   "source": [
    "## Предобработка данных"
   ],
   "metadata": {
    "collapsed": false
   }
  },
  {
   "cell_type": "code",
   "execution_count": 43,
   "outputs": [
    {
     "name": "stdout",
     "output_type": "stream",
     "text": [
      "frozenset({'been', 'were', 'again', 'him', 'further', 're', 'thin', 'cannot', 'so', 'moreover', 'already', 'somewhere', 'forty', 'towards', 'everything', 'system', 'an', 'myself', 'still', 'out', 'toward', 'until', 'meanwhile', 'without', 'either', 'themselves', 'whenever', 'how', 'any', 'eleven', 'formerly', 'ourselves', 'etc', 'these', 'hereupon', 'am', 'our', 'all', 'nothing', 'could', 'none', 'only', 'part', 'alone', 'become', 'amount', 'of', 'me', 'he', 'doesn', 'after', 'before', 'same', 'yourselves', 'really', 'those', 'though', 'becoming', 'when', 'see', 'un', 'thence', 'top', 'because', 'namely', 'indeed', 'should', 'last', 'both', 'through', 'she', 'give', 'whether', 'at', 'hence', 'now', 'anywhere', 'across', 'another', 'eight', 'cant', 'say', 'on', 'some', 'around', 'becomes', 'too', 'which', 'amongst', 'his', 'against', 'get', 'whither', 'itself', 'then', 'empty', 'three', 'enough', 'former', 'ltd', 'ours', 'with', 'thick', 'due', 'there', 'than', 'upon', 'whereafter', 'however', 'nobody', 'other', 'yet', 'whereupon', 'two', 'latter', 'de', 'serious', 'full', 'this', 'everyone', 'elsewhere', 'sixty', 'regarding', 'since', 'detail', 'make', 'someone', 'by', 'whereas', 'whom', 'fifty', 'few', 'where', 'down', 'during', 'anyone', 'most', 'do', 'find', 'one', 'others', 'describe', 'among', 'found', 'if', 'up', 'who', 'somehow', 'must', 'nine', 'thereafter', 'does', 'seeming', 'throughout', 'doing', 'least', 'except', 'us', 'don', 'noone', 'quite', 'hasnt', 'hundred', 'kg', 'mine', 'can', 'thru', 'unless', 'thereby', 'to', 'within', 'often', 'rather', 'please', 'mill', 'between', 'almost', 'above', 'what', 'seemed', 'have', 'eg', 'seems', 'whereby', 'twenty', 'each', 'might', 'you', 'made', 'in', 'bill', 'otherwise', 'off', 'although', 'therein', 'every', 'the', 'name', 'whole', 'they', 'sincere', 'interest', 'not', 'even', 'will', 'couldnt', 'five', 'first', 'various', 'its', 'under', 'hereby', 'being', 'a', 'be', 'also', 'keep', 'has', 'several', 'computer', 'four', 'well', 'via', 'didn', 'anyway', 'and', 'herself', 'her', 'as', 'using', 'that', 'hers', 'twelve', 'their', 'six', 'cry', 'done', 'wherever', 'along', 'but', 'onto', 'why', 'back', 'nowhere', 'front', 'herein', 'such', 'here', 'or', 'did', 'own', 'inc', 'about', 'everywhere', 'show', 'it', 'no', 'while', 'ie', 'was', 'beside', 'whence', 'more', 'whoever', 'wherein', 'anything', 'used', 'thereupon', 'go', 'beyond', 'fire', 'anyhow', 'always', 'is', 'less', 'into', 'below', 'from', 'yours', 'fifteen', 'ten', 'we', 'con', 'may', 'side', 'move', 'very', 'fill', 'else', 'perhaps', 'had', 'over', 'whatever', 'seem', 'call', 'sometime', 'much', 'third', 'per', 'them', 'just', 'ever', 'yourself', 'once', 'for', 'mostly', 'amoungst', 'hereafter', 'your', 'beforehand', 'i', 'afterwards', 'are', 'became', 'nor', 'many', 'km', 'besides', 'neither', 'whose', 'nevertheless', 'would', 'thus', 'co', 'put', 'himself', 'my', 'take', 'never', 'together', 'sometimes', 'bottom', 'therefore', 'latterly', 'next', 'something', 'behind'})\n"
     ]
    }
   ],
   "source": [
    "print(STOPWORDS)"
   ],
   "metadata": {
    "collapsed": false,
    "ExecuteTime": {
     "end_time": "2023-12-28T16:12:35.860606700Z",
     "start_time": "2023-12-28T16:12:35.778612800Z"
    }
   }
  },
  {
   "cell_type": "markdown",
   "source": [
    "Данные стоп слова вряд ли влияют на настроение твита, так что возьму их прямо из коробки."
   ],
   "metadata": {
    "collapsed": false
   }
  },
  {
   "cell_type": "code",
   "execution_count": 44,
   "outputs": [
    {
     "name": "stdout",
     "output_type": "stream",
     "text": [
      "CPU times: total: 2min 46s\n",
      "Wall time: 2min 46s\n"
     ]
    }
   ],
   "source": [
    "%%time\n",
    "def preprocess_tweet(row):\n",
    "    text = row['text']\n",
    "    text = p.clean(text)\n",
    "    text = remove_stopwords(text)\n",
    "    return text.lower().replace('\\s\\s+', ' ')\n",
    "\n",
    "data['cleaned_text'] = data.apply(preprocess_tweet, axis=1)"
   ],
   "metadata": {
    "collapsed": false,
    "ExecuteTime": {
     "end_time": "2023-12-28T16:15:22.588920800Z",
     "start_time": "2023-12-28T16:12:35.793609600Z"
    }
   }
  },
  {
   "cell_type": "code",
   "execution_count": 45,
   "outputs": [
    {
     "data": {
      "text/plain": "         target                                               text  \\\n248463        0  just went to bebo with the intention of closin...   \n15846         0             Swisher didn't pitch   Jays won again!   \n920662        1  lol so boredd nithing to do someone SAVE ME PL...   \n641337        0  Actual last day of college!!  Pity it has to f...   \n29822         0  @__Anya__ not just you, love.  its a LOT of pe...   \n491402        0  @stephaniepratt The contact form on your websi...   \n1489          0                 @adreamforsteph ok House was sad.    \n1524360       1  @Djalise Heyyy !!! I wish you an Happy Happy B...   \n1170625       1  @diet_tay oh @ Megabus. Rather you than me! Bu...   \n272220        0                        Aww...nancy, i'll miss you    \n\n                                              cleaned_text  \n248463   went bebo intention closing account i couldn't...  \n15846                 swisher didn't pitch jays won again!  \n920662                   lol boredd nithing save me please  \n641337   actual day college!! pity finish drama exam......  \n29822                                you, love. lot people  \n491402   the contact form website isn't working any way...  \n1489                                         ok house sad.  \n1524360     heyyy !!! i wish happy happy birthday !!!!!!!!  \n1170625           oh megabus. rather me! but bring toma...  \n272220                              aww...nancy, i'll miss  ",
      "text/html": "<div>\n<style scoped>\n    .dataframe tbody tr th:only-of-type {\n        vertical-align: middle;\n    }\n\n    .dataframe tbody tr th {\n        vertical-align: top;\n    }\n\n    .dataframe thead th {\n        text-align: right;\n    }\n</style>\n<table border=\"1\" class=\"dataframe\">\n  <thead>\n    <tr style=\"text-align: right;\">\n      <th></th>\n      <th>target</th>\n      <th>text</th>\n      <th>cleaned_text</th>\n    </tr>\n  </thead>\n  <tbody>\n    <tr>\n      <th>248463</th>\n      <td>0</td>\n      <td>just went to bebo with the intention of closin...</td>\n      <td>went bebo intention closing account i couldn't...</td>\n    </tr>\n    <tr>\n      <th>15846</th>\n      <td>0</td>\n      <td>Swisher didn't pitch   Jays won again!</td>\n      <td>swisher didn't pitch jays won again!</td>\n    </tr>\n    <tr>\n      <th>920662</th>\n      <td>1</td>\n      <td>lol so boredd nithing to do someone SAVE ME PL...</td>\n      <td>lol boredd nithing save me please</td>\n    </tr>\n    <tr>\n      <th>641337</th>\n      <td>0</td>\n      <td>Actual last day of college!!  Pity it has to f...</td>\n      <td>actual day college!! pity finish drama exam......</td>\n    </tr>\n    <tr>\n      <th>29822</th>\n      <td>0</td>\n      <td>@__Anya__ not just you, love.  its a LOT of pe...</td>\n      <td>you, love. lot people</td>\n    </tr>\n    <tr>\n      <th>491402</th>\n      <td>0</td>\n      <td>@stephaniepratt The contact form on your websi...</td>\n      <td>the contact form website isn't working any way...</td>\n    </tr>\n    <tr>\n      <th>1489</th>\n      <td>0</td>\n      <td>@adreamforsteph ok House was sad.</td>\n      <td>ok house sad.</td>\n    </tr>\n    <tr>\n      <th>1524360</th>\n      <td>1</td>\n      <td>@Djalise Heyyy !!! I wish you an Happy Happy B...</td>\n      <td>heyyy !!! i wish happy happy birthday !!!!!!!!</td>\n    </tr>\n    <tr>\n      <th>1170625</th>\n      <td>1</td>\n      <td>@diet_tay oh @ Megabus. Rather you than me! Bu...</td>\n      <td>oh megabus. rather me! but bring toma...</td>\n    </tr>\n    <tr>\n      <th>272220</th>\n      <td>0</td>\n      <td>Aww...nancy, i'll miss you</td>\n      <td>aww...nancy, i'll miss</td>\n    </tr>\n  </tbody>\n</table>\n</div>"
     },
     "execution_count": 45,
     "metadata": {},
     "output_type": "execute_result"
    }
   ],
   "source": [
    "data.sample(10)"
   ],
   "metadata": {
    "collapsed": false,
    "ExecuteTime": {
     "end_time": "2023-12-28T16:15:22.673891500Z",
     "start_time": "2023-12-28T16:15:22.588920800Z"
    }
   }
  },
  {
   "cell_type": "markdown",
   "source": [
    "## Извлечение признаков из текста с помощью векторизации"
   ],
   "metadata": {
    "collapsed": false
   }
  },
  {
   "cell_type": "code",
   "execution_count": 46,
   "outputs": [],
   "source": [
    "X_train, X_test, y_train, y_test = train_test_split(data['cleaned_text'], data['target'], random_state=2023)"
   ],
   "metadata": {
    "collapsed": false,
    "ExecuteTime": {
     "end_time": "2023-12-28T16:15:23.666886600Z",
     "start_time": "2023-12-28T16:15:22.685890100Z"
    }
   }
  },
  {
   "cell_type": "code",
   "execution_count": 47,
   "outputs": [
    {
     "name": "stdout",
     "output_type": "stream",
     "text": [
      "CPU times: total: 51min 32s\n",
      "Wall time: 18min 3s\n"
     ]
    }
   ],
   "source": [
    "%%time\n",
    "VECTOR_SIZE = 256\n",
    "model = gensim.models.FastText(\n",
    "    sentences=X_train,\n",
    "    vector_size=VECTOR_SIZE, # default = 100\n",
    "    window=7, # default = 5\n",
    "    min_count=10,\n",
    "    sg=1, # Training algorithm: 1 for skip-gram; otherwise CBOW\n",
    "    hs=0, #  If 1, hierarchical softmax will be used for model training. If 0, and negative is non-zero, negative sampling will be used.\n",
    "    negative=5, # If > 0, negative sampling will be used, if set to 0, no negative sampling is used.\n",
    "    epochs=25, # Number of iterations (epochs) over the corpus\n",
    "    seed=seed,\n",
    ")"
   ],
   "metadata": {
    "collapsed": false,
    "ExecuteTime": {
     "end_time": "2023-12-28T16:33:27.314612500Z",
     "start_time": "2023-12-28T16:15:23.667889Z"
    }
   }
  },
  {
   "cell_type": "code",
   "execution_count": 48,
   "outputs": [],
   "source": [
    "# Получаем эмбеддинг для текста\n",
    "def document_vector(doc):\n",
    "    doc = [model.wv[word] for word in doc if word in model.wv.key_to_index.keys()]\n",
    "    if not doc:\n",
    "        return [0 for i in range(VECTOR_SIZE)]\n",
    "    return np.mean(doc, axis=0)\n",
    "\n",
    "X_train_vectorized = list(X_train.apply(document_vector))\n",
    "X_test_vectorized = list(X_test.apply(document_vector))"
   ],
   "metadata": {
    "collapsed": false,
    "ExecuteTime": {
     "end_time": "2023-12-28T16:37:11.359988800Z",
     "start_time": "2023-12-28T16:33:27.333559400Z"
    }
   }
  },
  {
   "cell_type": "markdown",
   "source": [
    "## Бейзлайн - константное предсказание"
   ],
   "metadata": {
    "collapsed": false
   }
  },
  {
   "cell_type": "markdown",
   "source": [],
   "metadata": {
    "collapsed": false
   }
  },
  {
   "cell_type": "code",
   "execution_count": 49,
   "outputs": [
    {
     "name": "stdout",
     "output_type": "stream",
     "text": [
      "              precision    recall  f1-score   support\n",
      "\n",
      "           0       0.50      1.00      0.67    199541\n",
      "           1       0.00      0.00      0.00    200459\n",
      "\n",
      "    accuracy                           0.50    400000\n",
      "   macro avg       0.25      0.50      0.33    400000\n",
      "weighted avg       0.25      0.50      0.33    400000\n",
      "\n"
     ]
    }
   ],
   "source": [
    "dummy_clf = DummyClassifier(strategy=\"most_frequent\", random_state=seed).fit(X_train_vectorized, y_train)\n",
    "preds = dummy_clf.predict(X_test_vectorized)\n",
    "print(classification_report(y_test, preds, zero_division=0))\n"
   ],
   "metadata": {
    "collapsed": false,
    "ExecuteTime": {
     "end_time": "2023-12-28T16:37:13.595977600Z",
     "start_time": "2023-12-28T16:37:11.405984100Z"
    }
   }
  },
  {
   "cell_type": "markdown",
   "source": [
    "## Логистическая регрессия"
   ],
   "metadata": {
    "collapsed": false
   }
  },
  {
   "cell_type": "code",
   "execution_count": 53,
   "outputs": [
    {
     "name": "stdout",
     "output_type": "stream",
     "text": [
      "              precision    recall  f1-score   support\n",
      "\n",
      "           0       0.59      0.64      0.61    199541\n",
      "           1       0.61      0.55      0.58    200459\n",
      "\n",
      "    accuracy                           0.60    400000\n",
      "   macro avg       0.60      0.60      0.60    400000\n",
      "weighted avg       0.60      0.60      0.60    400000\n",
      "\n"
     ]
    }
   ],
   "source": [
    "logreg = LogisticRegression(random_state=seed, max_iter=1000).fit(X_train_vectorized, y_train)\n",
    "preds_count_vec = logreg.predict(X_test_vectorized)\n",
    "print(classification_report(y_test, preds_count_vec))"
   ],
   "metadata": {
    "collapsed": false,
    "ExecuteTime": {
     "end_time": "2023-12-28T16:51:00.852741100Z",
     "start_time": "2023-12-28T16:46:22.147917200Z"
    }
   }
  },
  {
   "cell_type": "markdown",
   "source": [
    "## SVM и RandomForest"
   ],
   "metadata": {
    "collapsed": false
   }
  },
  {
   "cell_type": "code",
   "execution_count": 54,
   "outputs": [],
   "source": [
    "def objective(trial):\n",
    "    classifier_name = trial.suggest_categorical(\"classifier\", [\"SVC\", \"RandomForest\"])\n",
    "    if classifier_name == \"SVC\":\n",
    "        svc_c = trial.suggest_float(\"svc_c\", 1e-10, 1e10)\n",
    "        classifier_obj = SVC(C=svc_c, gamma=\"auto\", random_state=seed)\n",
    "    else:\n",
    "        rf_max_depth = trial.suggest_int(\"rf_max_depth\", 2, 32)\n",
    "        classifier_obj = RandomForestClassifier(max_depth=rf_max_depth, n_estimators=10, random_state=seed)\n",
    "\n",
    "    score = cross_val_score(classifier_obj, X_test_vectorized, y_test, n_jobs=-1, cv=3)\n",
    "    accuracy = score.mean()\n",
    "    return accuracy"
   ],
   "metadata": {
    "collapsed": false,
    "ExecuteTime": {
     "end_time": "2023-12-28T16:51:01.351764100Z",
     "start_time": "2023-12-28T16:51:00.964712200Z"
    }
   }
  },
  {
   "cell_type": "code",
   "execution_count": null,
   "outputs": [
    {
     "name": "stderr",
     "output_type": "stream",
     "text": [
      "[I 2023-12-28 23:51:08,789] A new study created in memory with name: no-name-fa270dce-8057-47ea-aacb-d5cc0edf4c6e\n"
     ]
    }
   ],
   "source": [
    "study = optuna.create_study(direction=\"maximize\")\n",
    "study.optimize(objective, n_trials=50)"
   ],
   "metadata": {
    "collapsed": false,
    "is_executing": true,
    "ExecuteTime": {
     "start_time": "2023-12-28T16:51:08.525266100Z"
    }
   }
  },
  {
   "cell_type": "code",
   "execution_count": null,
   "outputs": [],
   "source": [
    "print(study.best_trial)"
   ],
   "metadata": {
    "collapsed": false,
    "is_executing": true
   }
  },
  {
   "cell_type": "code",
   "execution_count": null,
   "outputs": [],
   "source": [
    "from optuna.visualization import plot_optimization_history\n",
    "\n",
    "plot_optimization_history(study)"
   ],
   "metadata": {
    "collapsed": false,
    "is_executing": true
   }
  },
  {
   "cell_type": "code",
   "execution_count": null,
   "outputs": [],
   "source": [
    "from optuna.visualization import plot_slice\n",
    "\n",
    "plot_slice(study)"
   ],
   "metadata": {
    "collapsed": false,
    "is_executing": true
   }
  },
  {
   "cell_type": "code",
   "execution_count": null,
   "outputs": [],
   "source": [],
   "metadata": {
    "collapsed": false
   }
  }
 ],
 "metadata": {
  "kernelspec": {
   "display_name": "Python 3",
   "language": "python",
   "name": "python3"
  },
  "language_info": {
   "codemirror_mode": {
    "name": "ipython",
    "version": 2
   },
   "file_extension": ".py",
   "mimetype": "text/x-python",
   "name": "python",
   "nbconvert_exporter": "python",
   "pygments_lexer": "ipython2",
   "version": "2.7.6"
  }
 },
 "nbformat": 4,
 "nbformat_minor": 0
}

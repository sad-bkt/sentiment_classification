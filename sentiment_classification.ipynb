{
 "cells": [
  {
   "cell_type": "markdown",
   "source": [
    "## Импорт необходимых библиотек"
   ],
   "metadata": {
    "collapsed": false
   }
  },
  {
   "cell_type": "code",
   "execution_count": null,
   "outputs": [],
   "source": [
    "!pip install tweet-preprocessor gensim kaggle scikit-learn"
   ],
   "metadata": {
    "collapsed": false
   }
  },
  {
   "cell_type": "code",
   "execution_count": 2,
   "metadata": {
    "collapsed": true,
    "ExecuteTime": {
     "end_time": "2023-12-12T21:35:25.066227800Z",
     "start_time": "2023-12-12T21:35:16.441681800Z"
    }
   },
   "outputs": [],
   "source": [
    "import pandas as pd\n",
    "import preprocessor as p\n",
    "from gensim.parsing.preprocessing import remove_stopwords, STOPWORDS\n",
    "import gensim\n",
    "from sklearn.model_selection import train_test_split\n",
    "from kaggle.api.kaggle_api_extended import KaggleApi\n",
    "import zipfile"
   ]
  },
  {
   "cell_type": "markdown",
   "source": [
    "## Анализ данных"
   ],
   "metadata": {
    "collapsed": false
   }
  },
  {
   "cell_type": "code",
   "execution_count": 3,
   "outputs": [],
   "source": [
    "api = KaggleApi()\n",
    "api.authenticate()\n",
    "api.dataset_download_files('kazanova/sentiment140')"
   ],
   "metadata": {
    "collapsed": false,
    "ExecuteTime": {
     "end_time": "2023-12-12T21:36:00.348963600Z",
     "start_time": "2023-12-12T21:35:25.070231600Z"
    }
   }
  },
  {
   "cell_type": "code",
   "execution_count": 4,
   "outputs": [],
   "source": [
    "with zipfile.ZipFile('sentiment140.zip', 'r') as zipref:\n",
    "    zipref.extractall('sentiment140/')"
   ],
   "metadata": {
    "collapsed": false,
    "ExecuteTime": {
     "end_time": "2023-12-12T21:36:02.638055400Z",
     "start_time": "2023-12-12T21:36:00.349967500Z"
    }
   }
  },
  {
   "cell_type": "code",
   "execution_count": 5,
   "outputs": [
    {
     "data": {
      "text/plain": "         target         ids                          date      flag  \\\n1264139       4  1999180478  Mon Jun 01 19:46:44 PDT 2009  NO_QUERY   \n327442        0  2009602990  Tue Jun 02 15:58:19 PDT 2009  NO_QUERY   \n771138        0  2302251743  Tue Jun 23 16:32:52 PDT 2009  NO_QUERY   \n529209        0  2195375692  Tue Jun 16 11:02:50 PDT 2009  NO_QUERY   \n742975        0  2266704568  Sun Jun 21 08:57:55 PDT 2009  NO_QUERY   \n753052        0  2286749440  Mon Jun 22 16:52:24 PDT 2009  NO_QUERY   \n815987        4  1551301352  Sat Apr 18 08:41:28 PDT 2009  NO_QUERY   \n651240        0  2237826490  Fri Jun 19 06:25:11 PDT 2009  NO_QUERY   \n1005831       4  1880551162  Fri May 22 01:38:51 PDT 2009  NO_QUERY   \n327962        0  2010170718  Tue Jun 02 16:55:58 PDT 2009  NO_QUERY   \n\n                    user                                               text  \n1264139  likezerogravity  @DavidArchie I didn't know you could play soft...  \n327442      itzleebishes  I wish I had a female friend that I could goss...  \n771138   elizabethdehoff  Thinking about dropping by @JugShop for tonigh...  \n529209         noudles04  @momAgenda Why do all the momAgenda's start in...  \n742975      GinaIsWizard  boredddd.... its the longest day o the year to...  \n753052           choosly                    @wonkette Actually it killed 4   \n815987   ScrapShoppeEtsy  @PaperCakes have a great party!  send us some ...  \n651240           CGTEMPE  Ahh my croissant tastes so good from Christies...  \n1005831  rjohanningmeier  @Bhinshaw So do I. The next 4 days are going t...  \n327962            rakaur    Just now leaving work  - http://bkite.com/086Vt  ",
      "text/html": "<div>\n<style scoped>\n    .dataframe tbody tr th:only-of-type {\n        vertical-align: middle;\n    }\n\n    .dataframe tbody tr th {\n        vertical-align: top;\n    }\n\n    .dataframe thead th {\n        text-align: right;\n    }\n</style>\n<table border=\"1\" class=\"dataframe\">\n  <thead>\n    <tr style=\"text-align: right;\">\n      <th></th>\n      <th>target</th>\n      <th>ids</th>\n      <th>date</th>\n      <th>flag</th>\n      <th>user</th>\n      <th>text</th>\n    </tr>\n  </thead>\n  <tbody>\n    <tr>\n      <th>1264139</th>\n      <td>4</td>\n      <td>1999180478</td>\n      <td>Mon Jun 01 19:46:44 PDT 2009</td>\n      <td>NO_QUERY</td>\n      <td>likezerogravity</td>\n      <td>@DavidArchie I didn't know you could play soft...</td>\n    </tr>\n    <tr>\n      <th>327442</th>\n      <td>0</td>\n      <td>2009602990</td>\n      <td>Tue Jun 02 15:58:19 PDT 2009</td>\n      <td>NO_QUERY</td>\n      <td>itzleebishes</td>\n      <td>I wish I had a female friend that I could goss...</td>\n    </tr>\n    <tr>\n      <th>771138</th>\n      <td>0</td>\n      <td>2302251743</td>\n      <td>Tue Jun 23 16:32:52 PDT 2009</td>\n      <td>NO_QUERY</td>\n      <td>elizabethdehoff</td>\n      <td>Thinking about dropping by @JugShop for tonigh...</td>\n    </tr>\n    <tr>\n      <th>529209</th>\n      <td>0</td>\n      <td>2195375692</td>\n      <td>Tue Jun 16 11:02:50 PDT 2009</td>\n      <td>NO_QUERY</td>\n      <td>noudles04</td>\n      <td>@momAgenda Why do all the momAgenda's start in...</td>\n    </tr>\n    <tr>\n      <th>742975</th>\n      <td>0</td>\n      <td>2266704568</td>\n      <td>Sun Jun 21 08:57:55 PDT 2009</td>\n      <td>NO_QUERY</td>\n      <td>GinaIsWizard</td>\n      <td>boredddd.... its the longest day o the year to...</td>\n    </tr>\n    <tr>\n      <th>753052</th>\n      <td>0</td>\n      <td>2286749440</td>\n      <td>Mon Jun 22 16:52:24 PDT 2009</td>\n      <td>NO_QUERY</td>\n      <td>choosly</td>\n      <td>@wonkette Actually it killed 4</td>\n    </tr>\n    <tr>\n      <th>815987</th>\n      <td>4</td>\n      <td>1551301352</td>\n      <td>Sat Apr 18 08:41:28 PDT 2009</td>\n      <td>NO_QUERY</td>\n      <td>ScrapShoppeEtsy</td>\n      <td>@PaperCakes have a great party!  send us some ...</td>\n    </tr>\n    <tr>\n      <th>651240</th>\n      <td>0</td>\n      <td>2237826490</td>\n      <td>Fri Jun 19 06:25:11 PDT 2009</td>\n      <td>NO_QUERY</td>\n      <td>CGTEMPE</td>\n      <td>Ahh my croissant tastes so good from Christies...</td>\n    </tr>\n    <tr>\n      <th>1005831</th>\n      <td>4</td>\n      <td>1880551162</td>\n      <td>Fri May 22 01:38:51 PDT 2009</td>\n      <td>NO_QUERY</td>\n      <td>rjohanningmeier</td>\n      <td>@Bhinshaw So do I. The next 4 days are going t...</td>\n    </tr>\n    <tr>\n      <th>327962</th>\n      <td>0</td>\n      <td>2010170718</td>\n      <td>Tue Jun 02 16:55:58 PDT 2009</td>\n      <td>NO_QUERY</td>\n      <td>rakaur</td>\n      <td>Just now leaving work  - http://bkite.com/086Vt</td>\n    </tr>\n  </tbody>\n</table>\n</div>"
     },
     "execution_count": 5,
     "metadata": {},
     "output_type": "execute_result"
    }
   ],
   "source": [
    "colnames=['target', 'ids', 'date', 'flag', 'user', 'text']\n",
    "data = pd.read_csv(\"sentiment140/training.1600000.processed.noemoticon.csv\", encoding='cp1252', names=colnames, header=None)\n",
    "data.sample(10)"
   ],
   "metadata": {
    "collapsed": false,
    "ExecuteTime": {
     "end_time": "2023-12-12T21:36:08.844719600Z",
     "start_time": "2023-12-12T21:36:02.647058300Z"
    }
   }
  },
  {
   "cell_type": "code",
   "execution_count": 6,
   "outputs": [
    {
     "name": "stdout",
     "output_type": "stream",
     "text": [
      "<class 'pandas.core.frame.DataFrame'>\n",
      "RangeIndex: 1600000 entries, 0 to 1599999\n",
      "Data columns (total 6 columns):\n",
      " #   Column  Non-Null Count    Dtype \n",
      "---  ------  --------------    ----- \n",
      " 0   target  1600000 non-null  int64 \n",
      " 1   ids     1600000 non-null  int64 \n",
      " 2   date    1600000 non-null  object\n",
      " 3   flag    1600000 non-null  object\n",
      " 4   user    1600000 non-null  object\n",
      " 5   text    1600000 non-null  object\n",
      "dtypes: int64(2), object(4)\n",
      "memory usage: 73.2+ MB\n"
     ]
    }
   ],
   "source": [
    "data.info()"
   ],
   "metadata": {
    "collapsed": false,
    "ExecuteTime": {
     "end_time": "2023-12-12T21:36:09.225723Z",
     "start_time": "2023-12-12T21:36:08.840718Z"
    }
   }
  },
  {
   "cell_type": "code",
   "execution_count": 7,
   "outputs": [
    {
     "data": {
      "text/plain": "   target                                               text\n0       0  @switchfoot http://twitpic.com/2y1zl - Awww, t...\n1       0  is upset that he can't update his Facebook by ...\n2       0  @Kenichan I dived many times for the ball. Man...\n3       0    my whole body feels itchy and like its on fire \n4       0  @nationwideclass no, it's not behaving at all....",
      "text/html": "<div>\n<style scoped>\n    .dataframe tbody tr th:only-of-type {\n        vertical-align: middle;\n    }\n\n    .dataframe tbody tr th {\n        vertical-align: top;\n    }\n\n    .dataframe thead th {\n        text-align: right;\n    }\n</style>\n<table border=\"1\" class=\"dataframe\">\n  <thead>\n    <tr style=\"text-align: right;\">\n      <th></th>\n      <th>target</th>\n      <th>text</th>\n    </tr>\n  </thead>\n  <tbody>\n    <tr>\n      <th>0</th>\n      <td>0</td>\n      <td>@switchfoot http://twitpic.com/2y1zl - Awww, t...</td>\n    </tr>\n    <tr>\n      <th>1</th>\n      <td>0</td>\n      <td>is upset that he can't update his Facebook by ...</td>\n    </tr>\n    <tr>\n      <th>2</th>\n      <td>0</td>\n      <td>@Kenichan I dived many times for the ball. Man...</td>\n    </tr>\n    <tr>\n      <th>3</th>\n      <td>0</td>\n      <td>my whole body feels itchy and like its on fire</td>\n    </tr>\n    <tr>\n      <th>4</th>\n      <td>0</td>\n      <td>@nationwideclass no, it's not behaving at all....</td>\n    </tr>\n  </tbody>\n</table>\n</div>"
     },
     "execution_count": 7,
     "metadata": {},
     "output_type": "execute_result"
    }
   ],
   "source": [
    "data.drop(['ids', 'date', 'flag', 'user'], axis=1, inplace=True)\n",
    "data.head()"
   ],
   "metadata": {
    "collapsed": false,
    "ExecuteTime": {
     "end_time": "2023-12-12T21:36:09.443724Z",
     "start_time": "2023-12-12T21:36:09.229726300Z"
    }
   }
  },
  {
   "cell_type": "code",
   "execution_count": 8,
   "outputs": [
    {
     "data": {
      "text/plain": "<Figure size 640x480 with 1 Axes>",
      "image/png": "[encoded data removed]"
     },
     "metadata": {},
     "output_type": "display_data"
    }
   ],
   "source": [
    "data['target'].value_counts().plot(\n",
    "    kind='bar',\n",
    "    rot=0,\n",
    "    title='Количество твитов по классам',\n",
    "    xlabel='Класс (0 - отрицательные, 2 - нейтральные, 4 - позитивные',\n",
    "    ylabel='Число твитов',\n",
    "    legend=True,\n",
    "    grid=True\n",
    ");"
   ],
   "metadata": {
    "collapsed": false,
    "ExecuteTime": {
     "end_time": "2023-12-12T21:36:11.386734100Z",
     "start_time": "2023-12-12T21:36:09.444726300Z"
    }
   }
  },
  {
   "cell_type": "markdown",
   "source": [
    "Класса получается всего 2, поэтому мы будем делать бинарную классификацию. Заменим метку класса 4 на 1:"
   ],
   "metadata": {
    "collapsed": false
   }
  },
  {
   "cell_type": "code",
   "execution_count": 9,
   "outputs": [],
   "source": [
    "data['target'] = data['target'].replace(4,1)"
   ],
   "metadata": {
    "collapsed": false,
    "ExecuteTime": {
     "end_time": "2023-12-12T21:36:11.543733200Z",
     "start_time": "2023-12-12T21:36:11.390734700Z"
    }
   }
  },
  {
   "cell_type": "markdown",
   "source": [
    "## Предобработка данных"
   ],
   "metadata": {
    "collapsed": false
   }
  },
  {
   "cell_type": "code",
   "execution_count": 10,
   "outputs": [
    {
     "name": "stdout",
     "output_type": "stream",
     "text": [
      "frozenset({'down', 'forty', 'whether', 'now', 'not', 'beforehand', 'seems', 'there', 'him', 'didn', 'anyway', 'ltd', 'upon', 'beside', 'etc', 'eleven', 'part', 'almost', 'hereafter', 'somehow', 'sometime', 'another', 'their', 'he', 'quite', 'whom', 'else', 'three', 'whose', 'few', 'found', 'enough', 'one', 'cry', 'without', 'two', 'her', 'too', 'please', 'fifty', 'de', 'six', 'every', 'among', 'more', 'fire', 'empty', 'seemed', 'together', 'ourselves', 'because', 'did', 'amount', 'on', 'used', 'call', 'such', 'several', 'ie', 'do', 'doesn', 'over', 'detail', 'whereupon', 'hence', 'it', 'interest', 'nine', 'me', 'seem', 'but', 'they', 'myself', 'whereafter', 'km', 'behind', 'by', 'into', 'hereupon', 'though', 'twelve', 'really', 'ten', 'will', 'across', 'computer', 'whatever', 'might', 'only', 'she', 'can', 'why', 'however', 'anywhere', 'just', 'have', 'how', 'name', 'get', 'whenever', 'the', 'alone', 'or', 'during', 'nowhere', 'ours', 'a', 'often', 'yet', 'these', 'out', 'hasnt', 'neither', 'you', 'con', 'noone', 'beyond', 'back', 'again', 'see', 'here', 'towards', 'fill', 'then', 'whither', 'what', 'elsewhere', 'perhaps', 'hereby', 'to', 'was', 'whereby', 'being', 'next', 'everywhere', 'side', 'nor', 'yours', 'make', 'its', 'onto', 'system', 'namely', 'herein', 'un', 'wherever', 'well', 'eg', 'under', 'via', 'most', 'between', 'thereby', 'rather', 'keep', 'does', 'am', 'be', 'about', 'inc', 'describe', 'so', 'much', 'anything', 'are', 'since', 'anyhow', 'eight', 'nevertheless', 'everyone', 'for', 'who', 'himself', 'us', 'while', 'thereupon', 'where', 'thru', 'would', 'some', 'formerly', 'moreover', 'than', 'sincere', 'and', 'hers', 'made', 'using', 'above', 'fifteen', 'before', 'been', 'when', 'don', 'from', 'own', 'yourselves', 'latterly', 'anyone', 'front', 'has', 'any', 'already', 'my', 'an', 'become', 'that', 'doing', 'hundred', 'below', 'herself', 'itself', 'same', 'your', 'sixty', 'throughout', 'sometimes', 'move', 'per', 'bill', 'mine', 'four', 'all', 'first', 'amongst', 'no', 'something', 'should', 'whereas', 'whence', 'none', 'could', 'meanwhile', 'less', 'full', 'former', 'therein', 'although', 'done', 'others', 'cannot', 'became', 'as', 'take', 'thus', 'them', 'still', 'except', 'once', 'thereafter', 'twenty', 'find', 'afterwards', 'therefore', 'may', 'cant', 'becomes', 'our', 'regarding', 'due', 'thick', 'after', 'mostly', 'serious', 'this', 'along', 'becoming', 'indeed', 'those', 'at', 'always', 'around', 'give', 'up', 'besides', 'also', 'go', 'everything', 'last', 'if', 'within', 'even', 'themselves', 'through', 'thence', 'various', 'bottom', 'seeming', 'whole', 'were', 'five', 'is', 'somewhere', 'had', 'amoungst', 'other', 'thin', 'his', 'in', 'which', 're', 'third', 'toward', 'against', 'with', 'couldnt', 'say', 'whoever', 'kg', 'top', 'of', 'show', 'ever', 'yourself', 'i', 'unless', 'nothing', 'further', 'nobody', 'either', 'put', 'very', 'we', 'least', 'latter', 'must', 'otherwise', 'wherein', 'until', 'mill', 'each', 'never', 'off', 'someone', 'both', 'many', 'co'})\n"
     ]
    }
   ],
   "source": [
    "print(STOPWORDS)"
   ],
   "metadata": {
    "collapsed": false,
    "ExecuteTime": {
     "end_time": "2023-12-12T21:36:11.543733200Z",
     "start_time": "2023-12-12T21:36:11.440731500Z"
    }
   }
  },
  {
   "cell_type": "markdown",
   "source": [
    "Данные стоп слова вряд ли влияют на настроение твита, так что возьму их прямо из коробки."
   ],
   "metadata": {
    "collapsed": false
   }
  },
  {
   "cell_type": "code",
   "execution_count": 11,
   "outputs": [
    {
     "name": "stdout",
     "output_type": "stream",
     "text": [
      "CPU times: total: 2min 57s\n",
      "Wall time: 3min 1s\n"
     ]
    }
   ],
   "source": [
    "%%time\n",
    "def preprocess_tweet(row):\n",
    "    text = row['text']\n",
    "    text = p.clean(text)\n",
    "    text = remove_stopwords(text)\n",
    "    return text.lower().replace('\\s\\s+', ' ')\n",
    "\n",
    "data['cleaned_text'] = data.apply(preprocess_tweet, axis=1)"
   ],
   "metadata": {
    "collapsed": false,
    "ExecuteTime": {
     "end_time": "2023-12-12T21:39:13.239264400Z",
     "start_time": "2023-12-12T21:36:11.456732800Z"
    }
   }
  },
  {
   "cell_type": "code",
   "execution_count": 12,
   "outputs": [
    {
     "data": {
      "text/plain": "         target                                               text  \\\n1315538       1  Me and my friends are playing UrbanTerror a lo...   \n268564        0                           outta credit to txt ppl    \n1527402       1  @lendenpen awww kyooot. now i like him even mo...   \n698141        0  my jeans are still in the dryer which means I'...   \n501426        0  @missy_gee i Dont. Well kinda. I can check som...   \n219433        0  I hope that these kitchen renos don't last any...   \n718943        0                         these fireworks are lame.    \n1483184       1              @theantijared hahaha you crack me up    \n1239313       1  Reading New Moon!! i just love it!! Edwart mar...   \n542079        0  sorry, Taylor! cmt wont come up on my psp's br...   \n\n                                              cleaned_text  \n1315538  me friends playing urbanterror lot days... it'...  \n268564                                outta credit txt ppl  \n1527402                    awww kyooot. like more!! hahaha  \n698141   jeans dryer means i'll wearing heals casual da...  \n501426   dont. well kinda. i check stuff fb phone! i wa...  \n219433       i hope kitchen renos don't longer... annoying  \n718943                                     fireworks lame.  \n1483184                                       hahaha crack  \n1239313     reading new moon!! love it!! edwart marry me!!  \n542079         sorry, taylor! cmt wont come psp's browser!  ",
      "text/html": "<div>\n<style scoped>\n    .dataframe tbody tr th:only-of-type {\n        vertical-align: middle;\n    }\n\n    .dataframe tbody tr th {\n        vertical-align: top;\n    }\n\n    .dataframe thead th {\n        text-align: right;\n    }\n</style>\n<table border=\"1\" class=\"dataframe\">\n  <thead>\n    <tr style=\"text-align: right;\">\n      <th></th>\n      <th>target</th>\n      <th>text</th>\n      <th>cleaned_text</th>\n    </tr>\n  </thead>\n  <tbody>\n    <tr>\n      <th>1315538</th>\n      <td>1</td>\n      <td>Me and my friends are playing UrbanTerror a lo...</td>\n      <td>me friends playing urbanterror lot days... it'...</td>\n    </tr>\n    <tr>\n      <th>268564</th>\n      <td>0</td>\n      <td>outta credit to txt ppl</td>\n      <td>outta credit txt ppl</td>\n    </tr>\n    <tr>\n      <th>1527402</th>\n      <td>1</td>\n      <td>@lendenpen awww kyooot. now i like him even mo...</td>\n      <td>awww kyooot. like more!! hahaha</td>\n    </tr>\n    <tr>\n      <th>698141</th>\n      <td>0</td>\n      <td>my jeans are still in the dryer which means I'...</td>\n      <td>jeans dryer means i'll wearing heals casual da...</td>\n    </tr>\n    <tr>\n      <th>501426</th>\n      <td>0</td>\n      <td>@missy_gee i Dont. Well kinda. I can check som...</td>\n      <td>dont. well kinda. i check stuff fb phone! i wa...</td>\n    </tr>\n    <tr>\n      <th>219433</th>\n      <td>0</td>\n      <td>I hope that these kitchen renos don't last any...</td>\n      <td>i hope kitchen renos don't longer... annoying</td>\n    </tr>\n    <tr>\n      <th>718943</th>\n      <td>0</td>\n      <td>these fireworks are lame.</td>\n      <td>fireworks lame.</td>\n    </tr>\n    <tr>\n      <th>1483184</th>\n      <td>1</td>\n      <td>@theantijared hahaha you crack me up</td>\n      <td>hahaha crack</td>\n    </tr>\n    <tr>\n      <th>1239313</th>\n      <td>1</td>\n      <td>Reading New Moon!! i just love it!! Edwart mar...</td>\n      <td>reading new moon!! love it!! edwart marry me!!</td>\n    </tr>\n    <tr>\n      <th>542079</th>\n      <td>0</td>\n      <td>sorry, Taylor! cmt wont come up on my psp's br...</td>\n      <td>sorry, taylor! cmt wont come psp's browser!</td>\n    </tr>\n  </tbody>\n</table>\n</div>"
     },
     "execution_count": 12,
     "metadata": {},
     "output_type": "execute_result"
    }
   ],
   "source": [
    "data.sample(10)"
   ],
   "metadata": {
    "collapsed": false,
    "ExecuteTime": {
     "end_time": "2023-12-12T21:39:13.335272500Z",
     "start_time": "2023-12-12T21:39:13.244277100Z"
    }
   }
  },
  {
   "cell_type": "markdown",
   "source": [
    "## Извлечение признаков из текста с помощью векторизации"
   ],
   "metadata": {
    "collapsed": false
   }
  },
  {
   "cell_type": "code",
   "execution_count": 13,
   "outputs": [],
   "source": [
    "X_train, X_test, y_train, y_test = train_test_split(data['cleaned_text'], data['target'], random_state=2023)"
   ],
   "metadata": {
    "collapsed": false,
    "ExecuteTime": {
     "end_time": "2023-12-12T21:39:14.097263400Z",
     "start_time": "2023-12-12T21:39:13.340275800Z"
    }
   }
  },
  {
   "cell_type": "code",
   "execution_count": null,
   "outputs": [],
   "source": [
    "%%time\n",
    "VECTOR_SIZE = 256\n",
    "model = gensim.models.FastText(\n",
    "    sentences=X_train,\n",
    "    vector_size=VECTOR_SIZE, # default = 100\n",
    "    window=7, # default = 5\n",
    "    min_count=10,\n",
    "    sg=1, # Training algorithm: 1 for skip-gram; otherwise CBOW\n",
    "    hs=0, #  If 1, hierarchical softmax will be used for model training. If 0, and negative is non-zero, negative sampling will be used.\n",
    "    negative=5, # If > 0, negative sampling will be used, if set to 0, no negative sampling is used.\n",
    "    epochs=25, # Number of iterations (epochs) over the corpus\n",
    "    seed=2023,\n",
    ")"
   ],
   "metadata": {
    "collapsed": false,
    "is_executing": true,
    "ExecuteTime": {
     "start_time": "2023-12-12T21:39:14.097263400Z"
    }
   }
  }
 ],
 "metadata": {
  "kernelspec": {
   "display_name": "Python 3",
   "language": "python",
   "name": "python3"
  },
  "language_info": {
   "codemirror_mode": {
    "name": "ipython",
    "version": 2
   },
   "file_extension": ".py",
   "mimetype": "text/x-python",
   "name": "python",
   "nbconvert_exporter": "python",
   "pygments_lexer": "ipython2",
   "version": "2.7.6"
  }
 },
 "nbformat": 4,
 "nbformat_minor": 0
}
